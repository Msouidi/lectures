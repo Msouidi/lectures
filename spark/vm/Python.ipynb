{
 "cells": [
  {
   "cell_type": "markdown",
   "id": "8df45052",
   "metadata": {},
   "source": [
    "### Uppercase a string"
   ]
  },
  {
   "cell_type": "code",
   "execution_count": 4,
   "id": "a3b86125",
   "metadata": {},
   "outputs": [
    {
     "data": {
      "text/plain": [
       "3"
      ]
     },
     "execution_count": 4,
     "metadata": {},
     "output_type": "execute_result"
    }
   ],
   "source": [
    "str_1 = \"This is a string\""
   ]
  },
  {
   "cell_type": "markdown",
   "id": "a4985826",
   "metadata": {},
   "source": [
    "### Capitalize a string"
   ]
  },
  {
   "cell_type": "code",
   "execution_count": 17,
   "id": "12af1f2b",
   "metadata": {},
   "outputs": [],
   "source": [
    "str_2 = \"new string\""
   ]
  },
  {
   "cell_type": "markdown",
   "id": "8fac58b9",
   "metadata": {},
   "source": [
    "### Display the city "
   ]
  },
  {
   "cell_type": "code",
   "execution_count": null,
   "id": "9f59deee",
   "metadata": {},
   "outputs": [],
   "source": [
    "my_dict = {\n",
    "    'company': 'nbs',\n",
    "    'ceo': 'joe',\n",
    "    'city': 'rome'\n",
    "}"
   ]
  },
  {
   "cell_type": "markdown",
   "id": "69e56422",
   "metadata": {},
   "source": [
    "### Capitalize the value of a dict"
   ]
  },
  {
   "cell_type": "code",
   "execution_count": 11,
   "id": "255ad11c",
   "metadata": {},
   "outputs": [
    {
     "data": {
      "text/plain": [
       "2"
      ]
     },
     "execution_count": 11,
     "metadata": {},
     "output_type": "execute_result"
    }
   ],
   "source": [
    "my_dict = {\n",
    "    \"name\": \"edison\",\n",
    "    \"city\": \"chicago\",\n",
    "}"
   ]
  },
  {
   "cell_type": "markdown",
   "id": "f3d46352",
   "metadata": {},
   "source": [
    "### split a string to words"
   ]
  },
  {
   "cell_type": "code",
   "execution_count": 16,
   "id": "9779d0c1",
   "metadata": {},
   "outputs": [
    {
     "data": {
      "text/plain": [
       "15"
      ]
     },
     "execution_count": 16,
     "metadata": {},
     "output_type": "execute_result"
    }
   ],
   "source": [
    "str_3 = \"Please split this sentence to words\""
   ]
  },
  {
   "cell_type": "markdown",
   "id": "9546270c",
   "metadata": {},
   "source": [
    "### Strip the words"
   ]
  },
  {
   "cell_type": "code",
   "execution_count": null,
   "id": "5c058b95",
   "metadata": {},
   "outputs": [],
   "source": [
    "word_1 = 'hi!'\n",
    "word_2 = ', world'"
   ]
  },
  {
   "cell_type": "markdown",
   "id": "3d66c556",
   "metadata": {},
   "source": [
    "### Split the sentence, strip words and lower them"
   ]
  },
  {
   "cell_type": "code",
   "execution_count": null,
   "id": "82ff51f0",
   "metadata": {},
   "outputs": [],
   "source": [
    "str_4 = \"Please, split This Sentence to words!\""
   ]
  }
 ],
 "metadata": {
  "kernelspec": {
   "display_name": "Python 3 (ipykernel)",
   "language": "python",
   "name": "python3"
  },
  "language_info": {
   "codemirror_mode": {
    "name": "ipython",
    "version": 3
   },
   "file_extension": ".py",
   "mimetype": "text/x-python",
   "name": "python",
   "nbconvert_exporter": "python",
   "pygments_lexer": "ipython3",
   "version": "3.10.6"
  }
 },
 "nbformat": 4,
 "nbformat_minor": 5
}
